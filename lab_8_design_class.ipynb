{
  "nbformat": 4,
  "nbformat_minor": 0,
  "metadata": {
    "colab": {
      "provenance": [],
      "authorship_tag": "ABX9TyOgKiYsVA5hTqUYE7uF/7bm",
      "include_colab_link": true
    },
    "kernelspec": {
      "name": "python3",
      "display_name": "Python 3"
    },
    "language_info": {
      "name": "python"
    }
  },
  "cells": [
    {
      "cell_type": "markdown",
      "metadata": {
        "id": "view-in-github",
        "colab_type": "text"
      },
      "source": [
        "<a href=\"https://colab.research.google.com/github/sushanthum616/lab-6/blob/main/lab_8_design_class.ipynb\" target=\"_parent\"><img src=\"https://colab.research.google.com/assets/colab-badge.svg\" alt=\"Open In Colab\"/></a>"
      ]
    },
    {
      "cell_type": "code",
      "execution_count": null,
      "metadata": {
        "id": "JdJ8nhfs4Br8",
        "colab": {
          "base_uri": "https://localhost:8080/"
        },
        "outputId": "9c1536e5-bc03-4ba0-9545-c5f9ec717767"
      },
      "outputs": [
        {
          "output_type": "stream",
          "name": "stdout",
          "text": [
            "the radius of the sphere is 5\n",
            "the surface area of the sphere is 314.0\n",
            "the volume of the sphere is 523.3333333333334\n"
          ]
        }
      ],
      "source": [
        "#ans 1\n",
        "class sphere:\n",
        "  pi = 3.14\n",
        "\n",
        "  def __init__(self, radius):\n",
        "    self.radius = radius\n",
        "  \n",
        "  def getradius(self):\n",
        "    return self.radius\n",
        "\n",
        "  def surfacearea(self):\n",
        "   return(4 * sphere.pi * self.radius * self.radius)\n",
        "\n",
        "  def volume(self):\n",
        "   return(4/3 * sphere.pi * self.radius * self.radius * self.radius)\n",
        "\n",
        "s = sphere(5) # sphere.__init__(s, 5)\n",
        "print('the radius of the sphere is', s.getradius())\n",
        "print('the surface area of the sphere is', s.surfacearea())\n",
        "print('the volume of the sphere is', s.volume())\n",
        "\n"
      ]
    },
    {
      "cell_type": "code",
      "source": [
        "class Card:\n",
        "    def __init__(self, rank, suit):\n",
        "        self.ranks = [None, \"Ace\", 2, 3, 4, 5, 6, 7, 8, 9, 10, \"Jack\", \"Queen\", \"King\"]\n",
        "        self.rank = self.ranks[rank]\n",
        "        self.suits = {\"d\": \"Diamonds\", \"c\": \"Clubs\", \"h\": \"Hearts\", \"s\": \"Spades\"}\n",
        "        self.suit = self.suits[suit]\n",
        "        self.value = -1\n",
        "\n",
        "    def getRank(self):\n",
        "        return self.rank\n",
        "\n",
        "    def getSuit(self):\n",
        "        return self.suit\n",
        "\n",
        "    def bjValue(self):\n",
        "        if self.rank == \"Ace\":\n",
        "            self.value = 1\n",
        "        elif self.rank == \"Jack\" or self.rank == \"Queen\" or self.rank == \"King\":\n",
        "            self.value = 10\n",
        "        elif type(self.rank) is int:\n",
        "            if self.rank > 1 and self.rank < 11:\n",
        "                self.value = self.ranks[self.rank]\n",
        "        return self.value\n"
      ],
      "metadata": {
        "id": "JY5rAVTgNREj"
      },
      "execution_count": 16,
      "outputs": []
    }
  ]
}