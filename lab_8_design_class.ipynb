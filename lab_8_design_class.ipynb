{
  "nbformat": 4,
  "nbformat_minor": 0,
  "metadata": {
    "colab": {
      "provenance": [],
      "authorship_tag": "ABX9TyPIAga+PdpEcw/Z8UPef+3t",
      "include_colab_link": true
    },
    "kernelspec": {
      "name": "python3",
      "display_name": "Python 3"
    },
    "language_info": {
      "name": "python"
    }
  },
  "cells": [
    {
      "cell_type": "markdown",
      "metadata": {
        "id": "view-in-github",
        "colab_type": "text"
      },
      "source": [
        "<a href=\"https://colab.research.google.com/github/sushanthum616/lab-6/blob/main/lab_8_design_class.ipynb\" target=\"_parent\"><img src=\"https://colab.research.google.com/assets/colab-badge.svg\" alt=\"Open In Colab\"/></a>"
      ]
    },
    {
      "cell_type": "code",
      "execution_count": null,
      "metadata": {
        "id": "JdJ8nhfs4Br8"
      },
      "outputs": [],
      "source": [
        "#ans no.1\n",
        "class sphere:\n",
        "  pi = 3.14\n",
        "\n",
        "  def __init__(self, radius):\n",
        "    self.radius = radius\n",
        "  \n",
        "  def getradius(self):\n",
        "    return self.radius\n",
        "\n",
        "  def surfacearea(self):\n",
        "   return(4 * sphere.pi * self.radius * self.radius)\n",
        "\n",
        "  def volume(self):\n",
        "   return(4/3 * sphere.pi * self.radius * self.radius * self.radius)\n",
        "\n",
        "s = sphere(5) # sphere.__init__(s, 5)\n",
        "print('the radius of the sphere is', s.getradius())\n",
        "print('the surface area of the sphere is', s.surfacearea())\n",
        "print('the volume of the sphere is', s.volume())\n",
        "\n"
      ]
    },
    {
      "cell_type": "code",
      "source": [
        "#ans no. 2\n",
        "class Card:\n",
        "\n",
        "    def __init__(self, rank, suit):\n",
        "        self.rank = rank\n",
        "        self.suit = suit\n",
        "        self.ranks = [None, \"Ace\", 2, 3, 4, 5, 6, 7, 8, 9, 10, \"Jack\", \"Queen\", \"King\"]\n",
        "\n",
        "        self.suits = {\"d\": \"Diamonds\",\"c\": \"Clubs\",\"h\": \"Hearts\",\"s\": \"Spades\"}\n",
        "\n",
        "\n",
        "    def getRank(self):\n",
        "\n",
        "      return self.rank\n",
        "\n",
        "\n",
        "    def getSuit(self):\n",
        "     return self.suits.get(self.suit)\n",
        "\n",
        "\n",
        "    def Value(self):\n",
        "     if self.rank > 1 or self.rank < 11:\n",
        "        self.value = self.rank\n",
        "\n",
        "     elif self.rank == \"Ace\":\n",
        "        self.value = 1\n",
        "\n",
        "     elif self.rank == \"Jack\" or self.ranks == \"Queen\" or self.ranks == \"King\":\n",
        "         self.value = 10\n",
        "\n",
        "     return self.value\n",
        "\n",
        "\n",
        "    def __str__(self):\n",
        "     return \"%s of %s\" % (self.ranks[self.rank], self.suits.get(self.suit))\n",
        "\n",
        "\n",
        "c = Card(1, \"s\")\n",
        "print(c)\n",
        "\n"
      ],
      "metadata": {
        "id": "JY5rAVTgNREj"
      },
      "execution_count": null,
      "outputs": []
    }
  ]
}