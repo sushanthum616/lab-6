{
  "nbformat": 4,
  "nbformat_minor": 0,
  "metadata": {
    "colab": {
      "provenance": [],
      "authorship_tag": "ABX9TyPZW4OEjFAu9WD8j3mco4P9",
      "include_colab_link": true
    },
    "kernelspec": {
      "name": "python3",
      "display_name": "Python 3"
    },
    "language_info": {
      "name": "python"
    }
  },
  "cells": [
    {
      "cell_type": "markdown",
      "metadata": {
        "id": "view-in-github",
        "colab_type": "text"
      },
      "source": [
        "<a href=\"https://colab.research.google.com/github/sushanthum616/lab-6/blob/main/oct21_proglab.ipynb\" target=\"_parent\"><img src=\"https://colab.research.google.com/assets/colab-badge.svg\" alt=\"Open In Colab\"/></a>"
      ]
    },
    {
      "cell_type": "code",
      "execution_count": null,
      "metadata": {
        "id": "NnLhDZSp2a0y"
      },
      "outputs": [],
      "source": [
        "#ans 1\n",
        "import math\n",
        "def approx_e(iter):\n",
        "    sum = 0\n",
        "    for i in range(iter):\n",
        "        trm = 1/math.factorial(i)\n",
        "        sum = sum + trm\n",
        "\n",
        "    return sum\n",
        "\n",
        "t = int(input(\"Enter number of terms: \"))\n",
        "e = approx_e(t)\n",
        "print(\"e = \", e)"
      ]
    },
    {
      "cell_type": "code",
      "source": [
        "#ans 2\n",
        "a = [500, 30]\n",
        "new_sqr_lst = []\n",
        "def squares(num):\n",
        "    return (num**0.5) % int(num**0.5) == 0\n",
        "\n",
        "for data in a:\n",
        "    if squares(data):\n",
        "        new_sqr_lst.append(data)\n",
        "\n",
        "print(new_sqr_lst)\n"
      ],
      "metadata": {
        "id": "wU7Lhudp3xdv"
      },
      "execution_count": null,
      "outputs": []
    },
    {
      "cell_type": "code",
      "source": [
        "#ans 3\n",
        "def add_this_many(x, el, lst):\n",
        " repeat=0\n",
        " for i in lst:\n",
        "  if x==i:\n",
        "   repeat +=1\n",
        "  print(repeat)\n",
        " for i in range(repeat):\n",
        "  lst.append(el)\n",
        " return lst\n",
        "lst = [1, 2, 4, 3, 1]\n",
        "add_this_many(1, 5, lst)"
      ],
      "metadata": {
        "id": "vNdwV9El32FR"
      },
      "execution_count": null,
      "outputs": []
    }
  ]
}