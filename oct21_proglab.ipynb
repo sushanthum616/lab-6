{
  "nbformat": 4,
  "nbformat_minor": 0,
  "metadata": {
    "colab": {
      "provenance": [],
      "authorship_tag": "ABX9TyP0aFTBVEqKvNqik3h49ffN",
      "include_colab_link": true
    },
    "kernelspec": {
      "name": "python3",
      "display_name": "Python 3"
    },
    "language_info": {
      "name": "python"
    }
  },
  "cells": [
    {
      "cell_type": "markdown",
      "metadata": {
        "id": "view-in-github",
        "colab_type": "text"
      },
      "source": [
        "<a href=\"https://colab.research.google.com/github/sushanthum616/lab-6/blob/main/oct21_proglab.ipynb\" target=\"_parent\"><img src=\"https://colab.research.google.com/assets/colab-badge.svg\" alt=\"Open In Colab\"/></a>"
      ]
    },
    {
      "cell_type": "code",
      "execution_count": 3,
      "metadata": {
        "id": "NnLhDZSp2a0y",
        "outputId": "ffaac512-a26a-4133-d4bf-67e195d952ad",
        "colab": {
          "base_uri": "https://localhost:8080/"
        }
      },
      "outputs": [
        {
          "output_type": "execute_result",
          "data": {
            "text/plain": [
              "2.7182818284590455"
            ]
          },
          "metadata": {},
          "execution_count": 3
        }
      ],
      "source": [
        "#ans 1\n",
        "def approx_e(iterations):\n",
        "  e_approx = 0\n",
        "  for i in range(iterations):\n",
        "\n",
        "       e_approx += 1 / factorial(i)\n",
        "\n",
        "  return e_approx\n",
        "\n",
        "def factorial(n):\n",
        "   \n",
        "    if n == 0:\n",
        "        return 1\n",
        "    else:\n",
        "        return n * factorial(n-1)\n",
        "approx_e(100)"
      ]
    },
    {
      "cell_type": "code",
      "source": [
        "#ans 2\n",
        "import math\n",
        "\n",
        "def squares(seq):\n",
        "\n",
        "    perfect_squares = []\n",
        "    \n",
        "\n",
        "    for n in seq:\n",
        "       \n",
        "        if math.isqrt(n) ** 2 == n:\n",
        "          \n",
        "            perfect_squares.append(n)\n",
        "    \n",
        "    return perfect_squares\n",
        "seq = [49, 8, 2, 1, 102]\n",
        "print(squares(seq))"
      ],
      "metadata": {
        "id": "wU7Lhudp3xdv",
        "outputId": "c1b42069-9521-4532-8feb-1f17608bbea9",
        "colab": {
          "base_uri": "https://localhost:8080/"
        }
      },
      "execution_count": 4,
      "outputs": [
        {
          "output_type": "stream",
          "name": "stdout",
          "text": [
            "[49, 1]\n"
          ]
        }
      ]
    },
    {
      "cell_type": "code",
      "source": [
        "#ans 3\n",
        "def add_this_many(x, el, lst):\n",
        "\n",
        "    count = lst.count(x)\n",
        "\n",
        "    for i in range(count):\n",
        "        lst.append(el)\n",
        "lst = [1, 2, 4, 3, 1] \n",
        "add_this_many(1, 5, lst) \n",
        "print(lst) \n"
      ],
      "metadata": {
        "id": "vNdwV9El32FR",
        "outputId": "61cb851d-b478-4a11-9c88-bb3360318897",
        "colab": {
          "base_uri": "https://localhost:8080/"
        }
      },
      "execution_count": 7,
      "outputs": [
        {
          "output_type": "stream",
          "name": "stdout",
          "text": [
            "[1, 2, 4, 3, 1, 5, 5]\n"
          ]
        }
      ]
    }
  ]
}