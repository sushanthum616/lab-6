{
  "nbformat": 4,
  "nbformat_minor": 0,
  "metadata": {
    "colab": {
      "provenance": [],
      "authorship_tag": "ABX9TyO0YDVjqiATH73BwLyKVD7a",
      "include_colab_link": true
    },
    "kernelspec": {
      "name": "python3",
      "display_name": "Python 3"
    },
    "language_info": {
      "name": "python"
    }
  },
  "cells": [
    {
      "cell_type": "markdown",
      "metadata": {
        "id": "view-in-github",
        "colab_type": "text"
      },
      "source": [
        "<a href=\"https://colab.research.google.com/github/sushanthum616/lab-6/blob/main/oct21_proglab.ipynb\" target=\"_parent\"><img src=\"https://colab.research.google.com/assets/colab-badge.svg\" alt=\"Open In Colab\"/></a>"
      ]
    },
    {
      "cell_type": "code",
      "execution_count": null,
      "metadata": {
        "id": "NnLhDZSp2a0y"
      },
      "outputs": [],
      "source": [
        "def fact(n):\n",
        "  res=1\n",
        "  for i in range(1, n+1):\n",
        "    res=res*i\n",
        "  return res\n",
        "print(fact(3))\n",
        "def approx_e(iter):\n",
        "  lst=[]\n",
        "  for i in range(0, iter):\n",
        "    if i==0:\n",
        "      lst.append(1)\n",
        "      continue\n",
        "    lst.append(1/fact(i))\n",
        "    print(lst)\n",
        "    result=sum(lst)\n",
        "  print(sum(lst))\n",
        "approx_e(100)"
      ]
    },
    {
      "cell_type": "code",
      "source": [
        "import math\n",
        "\n",
        "def squares(seq):\n",
        " res=[]\n",
        " for i in seq:\n",
        "  root=math.sqrt(i)\n",
        "  if int(root+0.5)**2==i:\n",
        "   res.append(i)\n",
        " return res\n",
        "squares([500,30])"
      ],
      "metadata": {
        "id": "wU7Lhudp3xdv"
      },
      "execution_count": null,
      "outputs": []
    },
    {
      "cell_type": "code",
      "source": [
        "def add_this_many(x, el, lst):\n",
        " repeat=0\n",
        " for i in lst:\n",
        "  if x==i:\n",
        "   repeat +=1\n",
        "  print(repeat)\n",
        " for i in range(repeat):\n",
        "  lst.append(el)\n",
        " return lst\n",
        "lst = [1, 2, 4, 3, 1]\n",
        "add_this_many(1, 5, lst)"
      ],
      "metadata": {
        "id": "vNdwV9El32FR"
      },
      "execution_count": null,
      "outputs": []
    }
  ]
}