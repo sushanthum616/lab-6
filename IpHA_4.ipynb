{
  "nbformat": 4,
  "nbformat_minor": 0,
  "metadata": {
    "colab": {
      "provenance": [],
      "authorship_tag": "ABX9TyPNZ3Nu6KwE5y7q8+st9cwN",
      "include_colab_link": true
    },
    "kernelspec": {
      "name": "python3",
      "display_name": "Python 3"
    },
    "language_info": {
      "name": "python"
    }
  },
  "cells": [
    {
      "cell_type": "markdown",
      "metadata": {
        "id": "view-in-github",
        "colab_type": "text"
      },
      "source": [
        "<a href=\"https://colab.research.google.com/github/sushanthum616/lab-6/blob/main/IpHA_4.ipynb\" target=\"_parent\"><img src=\"https://colab.research.google.com/assets/colab-badge.svg\" alt=\"Open In Colab\"/></a>"
      ]
    },
    {
      "cell_type": "code",
      "source": [
        "#ans no.1\n",
        "def max_product(lst):\n",
        "    lrgst = lst[0]\n",
        "    lrgst2 = None\n",
        "    for item in lst[1:]:    \n",
        "        if item > lrgst:\n",
        "            lrgst2 = lrgst\n",
        "            lrgst = item\n",
        "        elif lrgst2 is None or lrgst2 < item:\n",
        "            lrgst2 = item\n",
        "       \n",
        "             \n",
        "    print(\"Largest element is:\", lrgst)\n",
        "    print(\"Second Largest element is:\", lrgst2)\n",
        "\n",
        "    pro_max = lrgst * lrgst2\n",
        "    print(\"the max product is\",pro_max)\n",
        " \n",
        "\n",
        "lst = [10,3,1,9,2]\n",
        "max_product(lst)"
      ],
      "metadata": {
        "id": "NKnskZyM1n5E",
        "outputId": "6491d65c-1299-4105-f3e6-f017c8b25e9d",
        "colab": {
          "base_uri": "https://localhost:8080/"
        }
      },
      "execution_count": 37,
      "outputs": [
        {
          "output_type": "stream",
          "name": "stdout",
          "text": [
            "Largest element is: 10\n",
            "Second Largest element is: 9\n",
            "the max product is 90\n"
          ]
        }
      ]
    },
    {
      "cell_type": "code",
      "source": [
        "#ans no.2\n",
        "def coords(fn, seq, lower, upper):\n",
        "    return [[x, fn(x)] for x in seq if lower<=fn(x)<=upper ]\n",
        "seq = [-4, -2, 0, 1, 3]\n",
        "fn = lambda x: x**2\n",
        "coords(fn, seq, 1, 9)"
      ],
      "metadata": {
        "id": "HTX8BOnrpibg",
        "outputId": "bfd98289-ea68-46ec-e1cf-9154525c1e03",
        "colab": {
          "base_uri": "https://localhost:8080/"
        }
      },
      "execution_count": 38,
      "outputs": [
        {
          "output_type": "execute_result",
          "data": {
            "text/plain": [
              "[[-2, 4], [1, 1], [3, 9]]"
            ]
          },
          "metadata": {},
          "execution_count": 38
        }
      ]
    },
    {
      "cell_type": "code",
      "source": [
        "#ans no 3\n",
        "def sort(lst):\n",
        "    ind = len(lst) - 1\n",
        "    while ind >= 0:\n",
        "        for j in range(ind):\n",
        "            if lst[j] >lst[j+1]:\n",
        "               lst[j], lst[j+1] = lst[j+1], lst[j]\n",
        "        ind -= 1\n",
        "    return lst\n",
        "\n",
        "lst = [-4, 1, -2, 0, 3]\n",
        "sort(lst)"
      ],
      "metadata": {
        "id": "WBDxpd-lpq2x",
        "outputId": "0fe16b93-01a2-4461-fa3b-fe78634747ca",
        "colab": {
          "base_uri": "https://localhost:8080/"
        }
      },
      "execution_count": 39,
      "outputs": [
        {
          "output_type": "execute_result",
          "data": {
            "text/plain": [
              "[-4, -2, 0, 1, 3]"
            ]
          },
          "metadata": {},
          "execution_count": 39
        }
      ]
    },
    {
      "cell_type": "code",
      "source": [
        "#ans no. 4\n",
        "def chk_lst(lst, n):\n",
        "    if n in lst:\n",
        "        return True\n",
        "    else:\n",
        "        return any(chk_lst(sublist, n) for sublist in lst if isinstance(sublist, list))\n",
        "\n",
        "a = [ [1,[2]], 3, [ [4], [5,[6] ] ]   ]\n",
        "chk_lst(a, 6)"
      ],
      "metadata": {
        "id": "UjNZSWBHCFtH",
        "outputId": "d0310f74-da63-4a7e-e5dc-351a9d2ce346",
        "colab": {
          "base_uri": "https://localhost:8080/"
        }
      },
      "execution_count": 40,
      "outputs": [
        {
          "output_type": "execute_result",
          "data": {
            "text/plain": [
              "True"
            ]
          },
          "metadata": {},
          "execution_count": 40
        }
      ]
    }
  ]
}