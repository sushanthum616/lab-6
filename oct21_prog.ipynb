{
  "nbformat": 4,
  "nbformat_minor": 0,
  "metadata": {
    "colab": {
      "provenance": [],
      "authorship_tag": "ABX9TyPyB1MI1xb/iexxoXSbXCUF",
      "include_colab_link": true
    },
    "kernelspec": {
      "name": "python3",
      "display_name": "Python 3"
    },
    "language_info": {
      "name": "python"
    }
  },
  "cells": [
    {
      "cell_type": "markdown",
      "metadata": {
        "id": "view-in-github",
        "colab_type": "text"
      },
      "source": [
        "<a href=\"https://colab.research.google.com/github/sushanthum616/lab-6/blob/main/oct21_prog.ipynb\" target=\"_parent\"><img src=\"https://colab.research.google.com/assets/colab-badge.svg\" alt=\"Open In Colab\"/></a>"
      ]
    },
    {
      "cell_type": "code",
      "execution_count": null,
      "metadata": {
        "id": "xxIM8Ylq4WJf"
      },
      "outputs": [],
      "source": [
        "import math              \n",
        "MAX = 10000\n",
        " \n",
        "primes = []\n",
        " \n",
        "def foo():\n",
        "\n",
        "    fun = [False] * (int(MAX / 2) + 100);\n",
        "    for i in range(1, int((math.sqrt(MAX) - 1) / 2) + 1):\n",
        "        for j in range((i * (i + 1)) << 1,\n",
        "                        int(MAX / 2) + 1, 2 * i + 1):\n",
        "            fun[j] = True\n",
        " \n",
        "    primes.append(2)\n",
        "    for i in range(1, int(MAX / 2) + 1):\n",
        "        if (fun[i] == False):\n",
        "            primes.append(2 * i + 1)\n",
        "def findPrimes():\n",
        "    n = eval(input('Enter number:'))\n",
        "    if (n < 2 or n % 2 != 0):\n",
        "        print(\"Invalid Input\")\n",
        "        return\n",
        "    i = 0\n",
        "    while (primes[i] <= n // 2):\n",
        "        diff = n - primes[i]\n",
        "        if diff in primes:\n",
        "            print(primes[i], \"+\", diff, \"=\", n)\n",
        "            return\n",
        "        i += 1\n",
        "foo()\n",
        "findPrimes()\n",
        "findPrimes()"
      ]
    },
    {
      "cell_type": "code",
      "source": [
        "def main():\n",
        " Nums = [1, 0, 3, 0, 4]\n",
        " New_list = [n for n in Nums if n != 0] + [n for n in Nums if n == 0]\n",
        " print(New_list)\n",
        "main()"
      ],
      "metadata": {
        "id": "HyUggYR_OrwC"
      },
      "execution_count": null,
      "outputs": []
    },
    {
      "cell_type": "code",
      "source": [
        "def cmp(pattern,list):\n",
        "  pattern = \" \"\n",
        "  list = [\" \"]\n",
        "\n",
        "  if len(pattern) == len(list):\n",
        "    return True\n",
        "  elif pattern[0] == \"python\" or pattern[1] == \"code\" or pattern[2] == \"is\" or pattern[3] == \"here\":\n",
        "    return True\n",
        "  else:\n",
        "    return False\n",
        "\n",
        "cmp(\"abcd\",[\"python code code python\"])"
      ],
      "metadata": {
        "id": "bpCfjs2sCXnT"
      },
      "execution_count": null,
      "outputs": []
    }
  ]
}