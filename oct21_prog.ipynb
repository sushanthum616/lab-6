{
  "nbformat": 4,
  "nbformat_minor": 0,
  "metadata": {
    "colab": {
      "provenance": [],
      "authorship_tag": "ABX9TyNDSdGq/HBivreeKmExnPv7",
      "include_colab_link": true
    },
    "kernelspec": {
      "name": "python3",
      "display_name": "Python 3"
    },
    "language_info": {
      "name": "python"
    }
  },
  "cells": [
    {
      "cell_type": "markdown",
      "metadata": {
        "id": "view-in-github",
        "colab_type": "text"
      },
      "source": [
        "<a href=\"https://colab.research.google.com/github/sushanthum616/lab-6/blob/main/oct21_prog.ipynb\" target=\"_parent\"><img src=\"https://colab.research.google.com/assets/colab-badge.svg\" alt=\"Open In Colab\"/></a>"
      ]
    },
    {
      "cell_type": "code",
      "execution_count": null,
      "metadata": {
        "id": "xxIM8Ylq4WJf"
      },
      "outputs": [],
      "source": [
        "#ans 1\n",
        "import math              \n",
        "MAX = 10000\n",
        " \n",
        "primes = []\n",
        " \n",
        "def foo():\n",
        "\n",
        "    fun = [False] * (int(MAX / 2) + 100);\n",
        "    for i in range(1, int((math.sqrt(MAX) - 1) / 2) + 1):\n",
        "        for j in range((i * (i + 1)) << 1,\n",
        "                        int(MAX / 2) + 1, 2 * i + 1):\n",
        "            fun[j] = True\n",
        " \n",
        "    primes.append(2)\n",
        "    for i in range(1, int(MAX / 2) + 1):\n",
        "        if (fun[i] == False):\n",
        "            primes.append(2 * i + 1)\n",
        "def findPrimes():\n",
        "    n = eval(input('Enter number:'))\n",
        "    if (n < 2 or n % 2 != 0):\n",
        "        print(\"Invalid Input\")\n",
        "        return\n",
        "    i = 0\n",
        "    while (primes[i] <= n // 2):\n",
        "        diff = n - primes[i]\n",
        "        if diff in primes:\n",
        "            print(primes[i], \"+\", diff, \"=\", n)\n",
        "            return\n",
        "        i += 1\n",
        "foo()\n",
        "findPrimes()\n",
        "findPrimes()"
      ]
    },
    {
      "cell_type": "code",
      "source": [
        "#ans 2\n",
        "def main():\n",
        " Nums = [1, 0, 3, 0, 4]\n",
        " New_list = [n for n in Nums if n != 0] + [n for n in Nums if n == 0]\n",
        " print(New_list)\n",
        "main()"
      ],
      "metadata": {
        "id": "HyUggYR_OrwC"
      },
      "execution_count": null,
      "outputs": []
    },
    {
      "cell_type": "code",
      "source": [
        "#ans 3\n",
        "pattern=str(input('Input the pattern : '))\n",
        "line=str(input('Input the line to compare : '))\n",
        "new_str=line.split()\n",
        "dict={}\n",
        "temp = []\n",
        "dict[pattern[0]] = new_str[0]\n",
        "\n",
        "if(len(pattern) == len(new_str)):\n",
        "    for i in range(0,4,1):      \n",
        "        for j in range(i+1,4,1):\n",
        "            if(pattern[i] == pattern[j]):\n",
        "                continue;\n",
        "            else:\n",
        "                if(new_str[j] not in dict.values()):\n",
        "                    dict[pattern[j]] = new_str[j]\n",
        "\n",
        "    for i in pattern:\n",
        "        if(i in dict.keys()):\n",
        "            temp.append(dict[i])\n",
        "\n",
        "    #print(temp)\n",
        "\n",
        "if(temp == new_str):\n",
        "    print(True)\n",
        "else:\n",
        "    print(False)"
      ],
      "metadata": {
        "id": "bpCfjs2sCXnT"
      },
      "execution_count": null,
      "outputs": []
    }
  ]
}